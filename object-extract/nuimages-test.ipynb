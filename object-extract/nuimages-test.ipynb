{
 "cells": [
  {
   "cell_type": "code",
   "execution_count": 1,
   "metadata": {},
   "outputs": [
    {
     "name": "stdout",
     "output_type": "stream",
     "text": [
      "======\n",
      "Loading nuImages tables for version v1.0-train...\n",
      "Done loading in 0.000 seconds (lazy=True).\n",
      "======\n"
     ]
    }
   ],
   "source": [
    "%matplotlib inline\n",
    "from nuimages import NuImages\n",
    "\n",
    "nuim = NuImages(dataroot='/work/murakamih/nuimages', version='v1.0-train', verbose=True, lazy=True)"
   ]
  },
  {
   "cell_type": "code",
   "execution_count": 2,
   "metadata": {},
   "outputs": [
    {
     "name": "stdout",
     "output_type": "stream",
     "text": [
      "Loaded 557715 object_ann(s) in 7.497s,\n",
      "{'token': '000015922354462eac2578a612e00b31', 'category_token': '653f7efbb9514ce7b81d44070d6208c1', 'bbox': [1167, 473, 1263, 530], 'mask': {'size': [900, 1600], 'counts': 'Z1RSUDE3bmswN0g5R2AwQDlHMDAwMDAwMDAwMDAwTjJPMTAwMDAwMDAwMk4yTjAwMDAwMDAwMDAwMDAwMDAwMDAwMDAxTzAwMDAwMDAwMDAwMDAwMDAwMDAwMU8wMDAwMDAwME4yTTNOMkw0Qz1EPDAwMDAwMDJOaDBYTzdJMU8xT08xTzEwMDAwMDAwMDAwMk4yTjJOMDAwMDAwMDAwMDAwMDAwMDAwMDAwMDAwMDAwMDAwMU9PMTAxTzBPMTAwUU9rVU9PVmowTFJWTzBuaTBMWFZPMWlpME1cVk8wZGkwMF9WT01jaTAwWzFNM01lUlU5'}, 'attribute_tokens': [], 'sample_data_token': '885437043b694431aa939ec73cd24f30'}\n"
     ]
    }
   ],
   "source": [
    "able_camera_direction = ['CAM_FRONT', 'CAM_BACK']\n",
    "for obj in nuim.object_ann:\n",
    "    print(obj)\n",
    "    break"
   ]
  },
  {
   "cell_type": "code",
   "execution_count": 4,
   "metadata": {},
   "outputs": [
    {
     "data": {
      "text/plain": [
       "{'token': '885437043b694431aa939ec73cd24f30',\n",
       " 'sample_token': '033e57fc880442978d82fa2a9f62962c',\n",
       " 'ego_pose_token': 'cf9fea3c09484d68943428495429e43f',\n",
       " 'calibrated_sensor_token': 'aaa35cd8e5795f4dbbff57955d003d2f',\n",
       " 'filename': 'samples/CAM_BACK/n010-2018-08-27-16-15-24+0800__CAM_BACK__1535357859787257.jpg',\n",
       " 'fileformat': 'jpg',\n",
       " 'width': 1600,\n",
       " 'height': 900,\n",
       " 'timestamp': 1535357859787257,\n",
       " 'is_key_frame': True,\n",
       " 'prev': '16331378892f499bae9acaaf51d2118a',\n",
       " 'next': 'cae36019edec4cdcbcc5d7b5ed7cbeec'}"
      ]
     },
     "execution_count": 4,
     "metadata": {},
     "output_type": "execute_result"
    }
   ],
   "source": [
    "sample_data = nuim.get('sample_data', obj['sample_data_token'])\n",
    "sample_data"
   ]
  },
  {
   "cell_type": "code",
   "execution_count": 13,
   "metadata": {},
   "outputs": [
    {
     "name": "stdout",
     "output_type": "stream",
     "text": [
      "CAM_BACK\n"
     ]
    }
   ],
   "source": [
    "calibrated_sensor = nuim.get('calibrated_sensor', sample_data['calibrated_sensor_token'])\n",
    "sensor = nuim.get('sensor', calibrated_sensor['sensor_token'])\n",
    "camera_direction = sensor['channel']\n",
    "print(camera_direction)"
   ]
  },
  {
   "cell_type": "code",
   "execution_count": 6,
   "metadata": {},
   "outputs": [
    {
     "data": {
      "text/plain": [
       "{'token': '033e57fc880442978d82fa2a9f62962c',\n",
       " 'timestamp': 1535357859787257,\n",
       " 'log_token': '8a0b474d6e4c4335bc01ce97a3d5fcd7',\n",
       " 'key_camera_token': '885437043b694431aa939ec73cd24f30'}"
      ]
     },
     "execution_count": 6,
     "metadata": {},
     "output_type": "execute_result"
    }
   ],
   "source": [
    "sample = nuim.get('sample', sample_data['sample_token'])\n",
    "sample"
   ]
  },
  {
   "cell_type": "code",
   "execution_count": 7,
   "metadata": {},
   "outputs": [
    {
     "name": "stdout",
     "output_type": "stream",
     "text": [
      "Loaded 25 category(s) in 0.002s,\n"
     ]
    },
    {
     "data": {
      "text/plain": [
       "[{'token': '63a94dfa99bb47529567cd90d3b58384',\n",
       "  'name': 'animal',\n",
       "  'description': 'All animals, e.g. cats, rats, dogs, deer, birds.'},\n",
       " {'token': 'a86329ee68a0411fb426dcad3b21452f',\n",
       "  'name': 'flat.driveable_surface',\n",
       "  'description': 'Surfaces should be regarded with no concern of traffic rules, lanes etc. Exclude any road obstacles. This includes paved and unpaved surfaces'},\n",
       " {'token': '1fa93b757fc74fb197cdd60001ad8abf',\n",
       "  'name': 'human.pedestrian.adult',\n",
       "  'description': 'Adult subcategory.'},\n",
       " {'token': 'b1c6de4c57f14a5383d9f963fbdcb5cb',\n",
       "  'name': 'human.pedestrian.child',\n",
       "  'description': 'Child subcategory.'},\n",
       " {'token': '909f1237d34a49d6bdd27c2fe4581d79',\n",
       "  'name': 'human.pedestrian.construction_worker',\n",
       "  'description': 'Construction worker'},\n",
       " {'token': '403fede16c88426885dd73366f16c34a',\n",
       "  'name': 'human.pedestrian.personal_mobility',\n",
       "  'description': 'A small electric or self-propelled vehicle, e.g. skateboard, segway, or scooters, on which the person typically travels in a upright position. Driver and (if applicable) rider should be included in the bounding box along with the vehicle.'},\n",
       " {'token': 'e3c7da112cd9475a9a10d45015424815',\n",
       "  'name': 'human.pedestrian.police_officer',\n",
       "  'description': 'Police officer.'},\n",
       " {'token': '6a5888777ca14867a8aee3fe539b56c4',\n",
       "  'name': 'human.pedestrian.stroller',\n",
       "  'description': 'Strollers. If a person is in the stroller, include in the annotation.'},\n",
       " {'token': 'b2d7c6c701254928a9e4d6aac9446d79',\n",
       "  'name': 'human.pedestrian.wheelchair',\n",
       "  'description': 'Wheelchairs. If a person is in the wheelchair, include in the annotation.'},\n",
       " {'token': '653f7efbb9514ce7b81d44070d6208c1',\n",
       "  'name': 'movable_object.barrier',\n",
       "  'description': 'Temporary road barrier placed in the scene in order to redirect traffic. Commonly used at construction sites. This includes concrete barrier, metal barrier and water barrier. No fences.'},\n",
       " {'token': '063c5e7f638343d3a7230bc3641caf97',\n",
       "  'name': 'movable_object.debris',\n",
       "  'description': 'Movable object that is left on the driveable surface that is too large to be driven over safely, e.g tree branch, full trash bag etc.'},\n",
       " {'token': 'd772e4bae20f493f98e15a76518b31d7',\n",
       "  'name': 'movable_object.pushable_pullable',\n",
       "  'description': 'Objects that a pedestrian may push or pull. For example dolleys, wheel barrows, garbage-bins, or shopping carts.'},\n",
       " {'token': '85abebdccd4d46c7be428af5a6173947',\n",
       "  'name': 'movable_object.trafficcone',\n",
       "  'description': 'All types of traffic cone.'},\n",
       " {'token': '0a30519ee16a4619b4f4acfe2d78fb55',\n",
       "  'name': 'static_object.bicycle_rack',\n",
       "  'description': 'Area or device intended to park or secure the bicycles in a row. It includes all the bikes parked in it and any empty slots that are intended for parking bikes.'},\n",
       " {'token': 'fc95c87b806f48f8a1faea2dcc2222a4',\n",
       "  'name': 'vehicle.bicycle',\n",
       "  'description': 'Human or electric powered 2-wheeled vehicle designed to travel at lower speeds either on road surface, sidewalks or bike paths.'},\n",
       " {'token': '003edbfb9ca849ee8a7496e9af3025d4',\n",
       "  'name': 'vehicle.bus.bendy',\n",
       "  'description': 'Bendy bus subcategory. Annotate each section of the bendy bus individually.'},\n",
       " {'token': 'fedb11688db84088883945752e480c2c',\n",
       "  'name': 'vehicle.bus.rigid',\n",
       "  'description': 'Rigid bus subcategory.'},\n",
       " {'token': 'fd69059b62a3469fbaef25340c0eab7f',\n",
       "  'name': 'vehicle.car',\n",
       "  'description': 'Vehicle designed primarily for personal use, e.g. sedans, hatch-backs, wagons, vans, mini-vans, SUVs and jeeps. If the vehicle is designed to carry more than 10 people use vehicle.bus. If it is primarily designed to haul cargo use vehicle.truck. '},\n",
       " {'token': '5b3cd6f2bca64b83aa3d0008df87d0e4',\n",
       "  'name': 'vehicle.construction',\n",
       "  'description': 'Vehicles primarily designed for construction. Typically very slow moving or stationary. Cranes and extremities of construction vehicles are only included in annotations if they interfere with traffic. Trucks used to haul rocks or building materials are considered vehicle.truck rather than construction vehicles.'},\n",
       " {'token': '7754874e6d0247f9855ae19a4028bf0e',\n",
       "  'name': 'vehicle.ego',\n",
       "  'description': 'Ego vehicle.'},\n",
       " {'token': '732cce86872640628788ff1bb81006d4',\n",
       "  'name': 'vehicle.emergency.ambulance',\n",
       "  'description': 'All types of ambulances.'},\n",
       " {'token': '7b2ff083a64e4d53809ae5d9be563504',\n",
       "  'name': 'vehicle.emergency.police',\n",
       "  'description': 'All types of police vehicles including police bicycles and motorcycles.'},\n",
       " {'token': 'dfd26f200ade4d24b540184e16050022',\n",
       "  'name': 'vehicle.motorcycle',\n",
       "  'description': 'Gasoline or electric powered 2-wheeled vehicle designed to move rapidly (at the speed of standard cars) on the road surface. This category includes all motorcycles, vespas and scooters.'},\n",
       " {'token': '90d0f6f8e7c749149b1b6c3a029841a8',\n",
       "  'name': 'vehicle.trailer',\n",
       "  'description': 'Any vehicle trailer, both for trucks, cars and bikes.'},\n",
       " {'token': '6021b5187b924d64be64a702e5570edf',\n",
       "  'name': 'vehicle.truck',\n",
       "  'description': 'Vehicles primarily designed to haul cargo including pick-ups, lorrys, trucks and semi-tractors. Trailers hauled after a semi-tractor should be labeled as vehicle.trailer'}]"
      ]
     },
     "execution_count": 7,
     "metadata": {},
     "output_type": "execute_result"
    }
   ],
   "source": [
    "nuim.category"
   ]
  },
  {
   "cell_type": "code",
   "execution_count": 8,
   "metadata": {},
   "outputs": [
    {
     "name": "stdout",
     "output_type": "stream",
     "text": [
      "Loaded 12 attribute(s) in 0.002s,\n"
     ]
    },
    {
     "data": {
      "text/plain": [
       "[{'token': '271f6773e4d2496cbb9942c204c8a4c1',\n",
       "  'name': 'cycle.with_rider',\n",
       "  'description': 'There is a rider on the bicycle or motorcycle.'},\n",
       " {'token': '725f0121878f4c86909f256fd9df8569',\n",
       "  'name': 'cycle.without_rider',\n",
       "  'description': 'There is NO rider on the bicycle or motorcycle.'},\n",
       " {'token': '963614d0532a4c6e946d303a94f40a3e',\n",
       "  'name': 'pedestrian.moving',\n",
       "  'description': 'The human is moving.'},\n",
       " {'token': '8c92f43bdb7c4df399aac34068f08f0f',\n",
       "  'name': 'pedestrian.sitting_lying_down',\n",
       "  'description': 'The human is sitting or lying down.'},\n",
       " {'token': '60346f6d0fcd4d9eadd6f64c77dd1e93',\n",
       "  'name': 'pedestrian.standing',\n",
       "  'description': 'The human is standing.'},\n",
       " {'token': 'abc0f113547848a9baaa62096fca37f5',\n",
       "  'name': 'vehicle.moving',\n",
       "  'description': 'Vehicle is moving.'},\n",
       " {'token': '9f65c1eaa74e4d5db46e87a34811e994',\n",
       "  'name': 'vehicle.parked',\n",
       "  'description': 'Vehicle is stationary (usually for longer duration) with no immediate intent to move.'},\n",
       " {'token': '46dfc76161234ff1a74eff81da7daab0',\n",
       "  'name': 'vehicle.stopped',\n",
       "  'description': 'Vehicle, with a driver/rider in/on it, is currently stationary but has an intent to move.'},\n",
       " {'token': '3ba0a4fefa8a46f39118e35e45c4111a',\n",
       "  'name': 'vehicle_light.emergency.flashing',\n",
       "  'description': 'Vehicle is flashing emergency lights.'},\n",
       " {'token': '67125c542a1e4e25aa05dcf1c3a282b9',\n",
       "  'name': 'vehicle_light.emergency.not_flashing',\n",
       "  'description': 'Vehicle is not flashing emergency lights.'},\n",
       " {'token': 'f8cc93a317e04f098423bedb0150e35a',\n",
       "  'name': 'vertical_position.off_ground',\n",
       "  'description': 'Object is not on the ground plane, e.g. flying, falling, jumping or positioned in a tree or on a vehicle.'},\n",
       " {'token': 'ca7cd5668bac48c6b670c43fc4c6f21b',\n",
       "  'name': 'vertical_position.on_ground',\n",
       "  'description': 'Object is on the ground plane.'}]"
      ]
     },
     "execution_count": 8,
     "metadata": {},
     "output_type": "execute_result"
    }
   ],
   "source": [
    "nuim.attribute"
   ]
  },
  {
   "cell_type": "code",
   "execution_count": 10,
   "metadata": {},
   "outputs": [
    {
     "data": {
      "text/plain": [
       "{'token': '653f7efbb9514ce7b81d44070d6208c1',\n",
       " 'name': 'movable_object.barrier',\n",
       " 'description': 'Temporary road barrier placed in the scene in order to redirect traffic. Commonly used at construction sites. This includes concrete barrier, metal barrier and water barrier. No fences.'}"
      ]
     },
     "execution_count": 10,
     "metadata": {},
     "output_type": "execute_result"
    }
   ],
   "source": [
    "category = nuim.get('category', '653f7efbb9514ce7b81d44070d6208c1')\n",
    "category"
   ]
  },
  {
   "cell_type": "code",
   "execution_count": 11,
   "metadata": {},
   "outputs": [
    {
     "data": {
      "text/plain": [
       "'movable_object.ba'"
      ]
     },
     "execution_count": 11,
     "metadata": {},
     "output_type": "execute_result"
    }
   ],
   "source": [
    "category['name'][:17]"
   ]
  },
  {
   "cell_type": "code",
   "execution_count": 14,
   "metadata": {},
   "outputs": [
    {
     "name": "stdout",
     "output_type": "stream",
     "text": [
      "False\n"
     ]
    }
   ],
   "source": [
    "def one() -> bool:\n",
    "    return False\n",
    "\n",
    "def ten() -> bool:\n",
    "    for i in range(10):\n",
    "        print(i)\n",
    "    return True\n",
    "\n",
    "x = one() and ten()\n",
    "print(x)"
   ]
  },
  {
   "cell_type": "code",
   "execution_count": 15,
   "metadata": {},
   "outputs": [
    {
     "data": {
      "text/plain": [
       "False"
      ]
     },
     "execution_count": 15,
     "metadata": {},
     "output_type": "execute_result"
    }
   ],
   "source": [
    "one() and ten()"
   ]
  },
  {
   "cell_type": "code",
   "execution_count": 16,
   "metadata": {},
   "outputs": [
    {
     "name": "stdout",
     "output_type": "stream",
     "text": [
      "0\n",
      "1\n",
      "2\n",
      "3\n",
      "4\n",
      "5\n",
      "6\n",
      "7\n",
      "8\n",
      "9\n"
     ]
    },
    {
     "data": {
      "text/plain": [
       "False"
      ]
     },
     "execution_count": 16,
     "metadata": {},
     "output_type": "execute_result"
    }
   ],
   "source": [
    "ten() and one()"
   ]
  },
  {
   "cell_type": "code",
   "execution_count": null,
   "metadata": {},
   "outputs": [],
   "source": []
  }
 ],
 "metadata": {
  "kernelspec": {
   "display_name": "Python 3",
   "language": "python",
   "name": "python3"
  },
  "language_info": {
   "codemirror_mode": {
    "name": "ipython",
    "version": 3
   },
   "file_extension": ".py",
   "mimetype": "text/x-python",
   "name": "python",
   "nbconvert_exporter": "python",
   "pygments_lexer": "ipython3",
   "version": "3.7.16"
  },
  "orig_nbformat": 4,
  "vscode": {
   "interpreter": {
    "hash": "916dbcbb3f70747c44a77c7bcd40155683ae19c65e1c03b4aa3499c5328201f1"
   }
  }
 },
 "nbformat": 4,
 "nbformat_minor": 2
}
